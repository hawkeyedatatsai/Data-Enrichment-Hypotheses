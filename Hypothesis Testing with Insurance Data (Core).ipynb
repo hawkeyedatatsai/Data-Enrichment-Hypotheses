{
 "cells": [
  {
   "cell_type": "code",
   "execution_count": 1,
   "id": "95d9d76e",
   "metadata": {},
   "outputs": [
    {
     "name": "stdout",
     "output_type": "stream",
     "text": [
      "<class 'pandas.core.frame.DataFrame'>\n",
      "RangeIndex: 1338 entries, 0 to 1337\n",
      "Data columns (total 7 columns):\n",
      " #   Column    Non-Null Count  Dtype  \n",
      "---  ------    --------------  -----  \n",
      " 0   age       1338 non-null   int64  \n",
      " 1   sex       1338 non-null   object \n",
      " 2   bmi       1338 non-null   float64\n",
      " 3   children  1338 non-null   int64  \n",
      " 4   smoker    1338 non-null   object \n",
      " 5   region    1338 non-null   object \n",
      " 6   charges   1338 non-null   float64\n",
      "dtypes: float64(2), int64(2), object(3)\n",
      "memory usage: 73.3+ KB\n",
      "None\n"
     ]
    },
    {
     "data": {
      "text/html": [
       "<div>\n",
       "<style scoped>\n",
       "    .dataframe tbody tr th:only-of-type {\n",
       "        vertical-align: middle;\n",
       "    }\n",
       "\n",
       "    .dataframe tbody tr th {\n",
       "        vertical-align: top;\n",
       "    }\n",
       "\n",
       "    .dataframe thead th {\n",
       "        text-align: right;\n",
       "    }\n",
       "</style>\n",
       "<table border=\"1\" class=\"dataframe\">\n",
       "  <thead>\n",
       "    <tr style=\"text-align: right;\">\n",
       "      <th></th>\n",
       "      <th>age</th>\n",
       "      <th>sex</th>\n",
       "      <th>bmi</th>\n",
       "      <th>children</th>\n",
       "      <th>smoker</th>\n",
       "      <th>region</th>\n",
       "      <th>charges</th>\n",
       "    </tr>\n",
       "  </thead>\n",
       "  <tbody>\n",
       "    <tr>\n",
       "      <th>0</th>\n",
       "      <td>19</td>\n",
       "      <td>female</td>\n",
       "      <td>27.900</td>\n",
       "      <td>0</td>\n",
       "      <td>yes</td>\n",
       "      <td>southwest</td>\n",
       "      <td>16884.92400</td>\n",
       "    </tr>\n",
       "    <tr>\n",
       "      <th>1</th>\n",
       "      <td>18</td>\n",
       "      <td>male</td>\n",
       "      <td>33.770</td>\n",
       "      <td>1</td>\n",
       "      <td>no</td>\n",
       "      <td>southeast</td>\n",
       "      <td>1725.55230</td>\n",
       "    </tr>\n",
       "    <tr>\n",
       "      <th>2</th>\n",
       "      <td>28</td>\n",
       "      <td>male</td>\n",
       "      <td>33.000</td>\n",
       "      <td>3</td>\n",
       "      <td>no</td>\n",
       "      <td>southeast</td>\n",
       "      <td>4449.46200</td>\n",
       "    </tr>\n",
       "    <tr>\n",
       "      <th>3</th>\n",
       "      <td>33</td>\n",
       "      <td>male</td>\n",
       "      <td>22.705</td>\n",
       "      <td>0</td>\n",
       "      <td>no</td>\n",
       "      <td>northwest</td>\n",
       "      <td>21984.47061</td>\n",
       "    </tr>\n",
       "    <tr>\n",
       "      <th>4</th>\n",
       "      <td>32</td>\n",
       "      <td>male</td>\n",
       "      <td>28.880</td>\n",
       "      <td>0</td>\n",
       "      <td>no</td>\n",
       "      <td>northwest</td>\n",
       "      <td>3866.85520</td>\n",
       "    </tr>\n",
       "  </tbody>\n",
       "</table>\n",
       "</div>"
      ],
      "text/plain": [
       "   age     sex     bmi  children smoker     region      charges\n",
       "0   19  female  27.900         0    yes  southwest  16884.92400\n",
       "1   18    male  33.770         1     no  southeast   1725.55230\n",
       "2   28    male  33.000         3     no  southeast   4449.46200\n",
       "3   33    male  22.705         0     no  northwest  21984.47061\n",
       "4   32    male  28.880         0     no  northwest   3866.85520"
      ]
     },
     "execution_count": 1,
     "metadata": {},
     "output_type": "execute_result"
    }
   ],
   "source": [
    "import pandas as pd\n",
    "import numpy as np\n",
    "import matplotlib.pyplot as plt\n",
    "import seaborn as sns\n",
    "import scipy.stats as stats\n",
    "\n",
    "df = pd.read_csv('https://docs.google.com/spreadsheets/d/e/2PACX-1vQBN8DPW2rdiRrY34eEM53HAzakNGSRrw4ogI-j8HyCUrbqTB_z4CeIn2IvjLF-w_6sOe5pIlypJGAA/pub?output=csv')\n",
    "print(df.info())\n",
    "df.head()"
   ]
  },
  {
   "cell_type": "code",
   "execution_count": 2,
   "id": "620e6f7d",
   "metadata": {},
   "outputs": [],
   "source": [
    "smoker = df.loc[ df['smoker'] == 'yes'].copy()\n",
    "non_smoker = df.loc[ df['smoker'] == 'No'].copy()"
   ]
  },
  {
   "cell_type": "code",
   "execution_count": 3,
   "id": "53830a66",
   "metadata": {},
   "outputs": [],
   "source": [
    "smoker_charge=smoker['charges']\n",
    "non_smoker_charge=non_smoker['charges']"
   ]
  },
  {
   "cell_type": "markdown",
   "id": "7a9ec49c",
   "metadata": {},
   "source": [
    "# Q1. Do smokers have higher insurance charges than non-smokers?\n"
   ]
  },
  {
   "cell_type": "markdown",
   "id": "cdd0a001",
   "metadata": {},
   "source": [
    "## State your Null Hypothesis and Alternative Hypothesis\n",
    "\n",
    "- Null Hypothesis: No difference on price between smokers and non smokers.\n",
    "\n",
    "- Alternative Hypothesis: There is difference on price between smokers and non smokers."
   ]
  },
  {
   "cell_type": "markdown",
   "id": "b5527bc3",
   "metadata": {},
   "source": [
    "## Select the correct test according to the data type and number of samples\n",
    "\n",
    "it is a two sample numeric data, so I will perform independent t test.\n"
   ]
  },
  {
   "cell_type": "markdown",
   "id": "a0a6458f",
   "metadata": {},
   "source": [
    "## Test the assumptions of your selected test.\n",
    "\n",
    "There are three assumptions:\n",
    " - No significant outliers\n",
    " - Normality\n",
    " - Equal Variance"
   ]
  },
  {
   "cell_type": "code",
   "execution_count": 4,
   "id": "d34c80e2",
   "metadata": {},
   "outputs": [
    {
     "name": "stdout",
     "output_type": "stream",
     "text": [
      "0\n"
     ]
    }
   ],
   "source": [
    "# Check for outliers for both groups\n",
    "##smoker_charge\n",
    "smoker_zscores= stats.zscore(smoker_charge)\n",
    "smoker_outliers = abs(smoker_zscores)>3\n",
    "print((np.sum(smoker_outliers)))\n",
    "# remove outliers from strength group\n",
    "smoker_charge = smoker_charge[(np.abs(smoker_zscores) < 3)]"
   ]
  },
  {
   "cell_type": "code",
   "execution_count": 5,
   "id": "dd5f6fec",
   "metadata": {},
   "outputs": [
    {
     "name": "stdout",
     "output_type": "stream",
     "text": [
      "0\n"
     ]
    }
   ],
   "source": [
    "##non_smoker_charge\n",
    "non_smoker_zscores= stats.zscore(non_smoker_charge)\n",
    "non_smoker_outliers = abs(non_smoker_zscores)>3\n",
    "print((np.sum(non_smoker_outliers)))\n",
    "# remove outliers from strength group\n",
    "non_smoker_charge = non_smoker_charge[(np.abs(non_smoker_zscores) < 3)]"
   ]
  },
  {
   "cell_type": "code",
   "execution_count": 6,
   "id": "0828eb5f",
   "metadata": {},
   "outputs": [
    {
     "name": "stderr",
     "output_type": "stream",
     "text": [
      "/Users/heng-tsertsai/anaconda3/envs/dojo-env/lib/python3.9/site-packages/scipy/stats/_stats_py.py:1343: RuntimeWarning: Mean of empty slice.\n",
      "  mean = a.mean(axis, keepdims=True)\n",
      "/Users/heng-tsertsai/anaconda3/envs/dojo-env/lib/python3.9/site-packages/numpy/core/_methods.py:182: RuntimeWarning: invalid value encountered in divide\n",
      "  ret = um.true_divide(\n",
      "/Users/heng-tsertsai/anaconda3/envs/dojo-env/lib/python3.9/site-packages/numpy/core/fromnumeric.py:3432: RuntimeWarning: Mean of empty slice.\n",
      "  return _methods._mean(a, axis=axis, dtype=dtype,\n",
      "/Users/heng-tsertsai/anaconda3/envs/dojo-env/lib/python3.9/site-packages/numpy/core/_methods.py:190: RuntimeWarning: invalid value encountered in double_scalars\n",
      "  ret = ret.dtype.type(ret / rcount)\n"
     ]
    },
    {
     "ename": "ValueError",
     "evalue": "skewtest is not valid with less than 8 samples; 0 samples were given.",
     "output_type": "error",
     "traceback": [
      "\u001b[0;31m---------------------------------------------------------------------------\u001b[0m",
      "\u001b[0;31mValueError\u001b[0m                                Traceback (most recent call last)",
      "Cell \u001b[0;32mIn [6], line 3\u001b[0m\n\u001b[1;32m      1\u001b[0m \u001b[38;5;66;03m# test the strength group for normality\u001b[39;00m\n\u001b[1;32m      2\u001b[0m result_smoker_charge\u001b[38;5;241m=\u001b[39m stats\u001b[38;5;241m.\u001b[39mnormaltest(smoker_charge)\n\u001b[0;32m----> 3\u001b[0m result_non_smoker_charge \u001b[38;5;241m=\u001b[39m \u001b[43mstats\u001b[49m\u001b[38;5;241;43m.\u001b[39;49m\u001b[43mnormaltest\u001b[49m\u001b[43m(\u001b[49m\u001b[43mnon_smoker_charge\u001b[49m\u001b[43m)\u001b[49m\n\u001b[1;32m      5\u001b[0m \u001b[38;5;28mprint\u001b[39m(result_smoker_charge)\n\u001b[1;32m      6\u001b[0m \u001b[38;5;28mprint\u001b[39m(result_non_smoker_charge)\n",
      "File \u001b[0;32m~/anaconda3/envs/dojo-env/lib/python3.9/site-packages/scipy/stats/_stats_py.py:1868\u001b[0m, in \u001b[0;36mnormaltest\u001b[0;34m(a, axis, nan_policy)\u001b[0m\n\u001b[1;32m   1865\u001b[0m     a \u001b[38;5;241m=\u001b[39m ma\u001b[38;5;241m.\u001b[39mmasked_invalid(a)\n\u001b[1;32m   1866\u001b[0m     \u001b[38;5;28;01mreturn\u001b[39;00m mstats_basic\u001b[38;5;241m.\u001b[39mnormaltest(a, axis)\n\u001b[0;32m-> 1868\u001b[0m s, _ \u001b[38;5;241m=\u001b[39m \u001b[43mskewtest\u001b[49m\u001b[43m(\u001b[49m\u001b[43ma\u001b[49m\u001b[43m,\u001b[49m\u001b[43m \u001b[49m\u001b[43maxis\u001b[49m\u001b[43m)\u001b[49m\n\u001b[1;32m   1869\u001b[0m k, _ \u001b[38;5;241m=\u001b[39m kurtosistest(a, axis)\n\u001b[1;32m   1870\u001b[0m k2 \u001b[38;5;241m=\u001b[39m s\u001b[38;5;241m*\u001b[39ms \u001b[38;5;241m+\u001b[39m k\u001b[38;5;241m*\u001b[39mk\n",
      "File \u001b[0;32m~/anaconda3/envs/dojo-env/lib/python3.9/site-packages/scipy/stats/_stats_py.py:1673\u001b[0m, in \u001b[0;36mskewtest\u001b[0;34m(a, axis, nan_policy, alternative)\u001b[0m\n\u001b[1;32m   1671\u001b[0m n \u001b[38;5;241m=\u001b[39m a\u001b[38;5;241m.\u001b[39mshape[axis]\n\u001b[1;32m   1672\u001b[0m \u001b[38;5;28;01mif\u001b[39;00m n \u001b[38;5;241m<\u001b[39m \u001b[38;5;241m8\u001b[39m:\n\u001b[0;32m-> 1673\u001b[0m     \u001b[38;5;28;01mraise\u001b[39;00m \u001b[38;5;167;01mValueError\u001b[39;00m(\n\u001b[1;32m   1674\u001b[0m         \u001b[38;5;124m\"\u001b[39m\u001b[38;5;124mskewtest is not valid with less than 8 samples; \u001b[39m\u001b[38;5;132;01m%i\u001b[39;00m\u001b[38;5;124m samples\u001b[39m\u001b[38;5;124m\"\u001b[39m\n\u001b[1;32m   1675\u001b[0m         \u001b[38;5;124m\"\u001b[39m\u001b[38;5;124m were given.\u001b[39m\u001b[38;5;124m\"\u001b[39m \u001b[38;5;241m%\u001b[39m \u001b[38;5;28mint\u001b[39m(n))\n\u001b[1;32m   1676\u001b[0m y \u001b[38;5;241m=\u001b[39m b2 \u001b[38;5;241m*\u001b[39m math\u001b[38;5;241m.\u001b[39msqrt(((n \u001b[38;5;241m+\u001b[39m \u001b[38;5;241m1\u001b[39m) \u001b[38;5;241m*\u001b[39m (n \u001b[38;5;241m+\u001b[39m \u001b[38;5;241m3\u001b[39m)) \u001b[38;5;241m/\u001b[39m (\u001b[38;5;241m6.0\u001b[39m \u001b[38;5;241m*\u001b[39m (n \u001b[38;5;241m-\u001b[39m \u001b[38;5;241m2\u001b[39m)))\n\u001b[1;32m   1677\u001b[0m beta2 \u001b[38;5;241m=\u001b[39m (\u001b[38;5;241m3.0\u001b[39m \u001b[38;5;241m*\u001b[39m (n\u001b[38;5;241m*\u001b[39m\u001b[38;5;241m*\u001b[39m\u001b[38;5;241m2\u001b[39m \u001b[38;5;241m+\u001b[39m \u001b[38;5;241m27\u001b[39m\u001b[38;5;241m*\u001b[39mn \u001b[38;5;241m-\u001b[39m \u001b[38;5;241m70\u001b[39m) \u001b[38;5;241m*\u001b[39m (n\u001b[38;5;241m+\u001b[39m\u001b[38;5;241m1\u001b[39m) \u001b[38;5;241m*\u001b[39m (n\u001b[38;5;241m+\u001b[39m\u001b[38;5;241m3\u001b[39m) \u001b[38;5;241m/\u001b[39m\n\u001b[1;32m   1678\u001b[0m          ((n\u001b[38;5;241m-\u001b[39m\u001b[38;5;241m2.0\u001b[39m) \u001b[38;5;241m*\u001b[39m (n\u001b[38;5;241m+\u001b[39m\u001b[38;5;241m5\u001b[39m) \u001b[38;5;241m*\u001b[39m (n\u001b[38;5;241m+\u001b[39m\u001b[38;5;241m7\u001b[39m) \u001b[38;5;241m*\u001b[39m (n\u001b[38;5;241m+\u001b[39m\u001b[38;5;241m9\u001b[39m)))\n",
      "\u001b[0;31mValueError\u001b[0m: skewtest is not valid with less than 8 samples; 0 samples were given."
     ]
    }
   ],
   "source": [
    "# test the strength group for normality\n",
    "result_smoker_charge= stats.normaltest(smoker_charge)\n",
    "result_non_smoker_charge = stats.normaltest(non_smoker_charge)\n",
    "\n",
    "print(result_smoker_charge)\n",
    "print(result_non_smoker_charge)"
   ]
  },
  {
   "cell_type": "markdown",
   "id": "33007203",
   "metadata": {},
   "source": [
    "## Execute the selected test, or the alternative test (if you do not meet the assumptions)"
   ]
  },
  {
   "cell_type": "markdown",
   "id": "e216bd03",
   "metadata": {},
   "source": [
    "## Interpret your p-value and reject or fail to reject your null hypothesis \n"
   ]
  },
  {
   "cell_type": "markdown",
   "id": "224cb584",
   "metadata": {},
   "source": [
    "## Show a supporting visualization that helps display the result"
   ]
  },
  {
   "cell_type": "markdown",
   "id": "23297d83",
   "metadata": {},
   "source": [
    "# Q2. Are men more likely to smoke than women?"
   ]
  },
  {
   "cell_type": "markdown",
   "id": "bf1de1ee",
   "metadata": {},
   "source": [
    "## State your Null Hypothesis and Alternative Hypothesis\n",
    "\n",
    "- Null Hypothesis: men and women are equally likely to smoke\n",
    "\n",
    "- Alternative Hypothesis: men and women are not equally likely to smoke\n"
   ]
  },
  {
   "cell_type": "markdown",
   "id": "78bc5507",
   "metadata": {},
   "source": [
    "# Q3. Do different regions have different charges, on average?"
   ]
  },
  {
   "cell_type": "markdown",
   "id": "b784c1c3",
   "metadata": {},
   "source": [
    "## State your Null Hypothesis and Alternative Hypothesis\n"
   ]
  },
  {
   "cell_type": "markdown",
   "id": "941265db",
   "metadata": {},
   "source": [
    "- Null Hypothesis: different regions have the same charges in average.\n",
    "\n",
    "- Alternative Hypothesis: different regions have different charges in average."
   ]
  },
  {
   "cell_type": "code",
   "execution_count": null,
   "id": "7fcf9a74",
   "metadata": {},
   "outputs": [],
   "source": []
  }
 ],
 "metadata": {
  "kernelspec": {
   "display_name": "Python (dojo-env)",
   "language": "python",
   "name": "dojo-env"
  },
  "language_info": {
   "codemirror_mode": {
    "name": "ipython",
    "version": 3
   },
   "file_extension": ".py",
   "mimetype": "text/x-python",
   "name": "python",
   "nbconvert_exporter": "python",
   "pygments_lexer": "ipython3",
   "version": "3.9.15"
  },
  "toc": {
   "base_numbering": 1,
   "nav_menu": {},
   "number_sections": false,
   "sideBar": true,
   "skip_h1_title": false,
   "title_cell": "Table of Contents",
   "title_sidebar": "Contents",
   "toc_cell": false,
   "toc_position": {},
   "toc_section_display": true,
   "toc_window_display": false
  }
 },
 "nbformat": 4,
 "nbformat_minor": 5
}
