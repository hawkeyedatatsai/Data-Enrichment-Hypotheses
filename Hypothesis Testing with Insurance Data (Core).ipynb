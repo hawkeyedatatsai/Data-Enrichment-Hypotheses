{
 "cells": [
  {
   "cell_type": "code",
   "execution_count": 1,
   "id": "7be2bc1a",
   "metadata": {},
   "outputs": [
    {
     "name": "stdout",
     "output_type": "stream",
     "text": [
      "<class 'pandas.core.frame.DataFrame'>\n",
      "RangeIndex: 1338 entries, 0 to 1337\n",
      "Data columns (total 7 columns):\n",
      " #   Column    Non-Null Count  Dtype  \n",
      "---  ------    --------------  -----  \n",
      " 0   age       1338 non-null   int64  \n",
      " 1   sex       1338 non-null   object \n",
      " 2   bmi       1338 non-null   float64\n",
      " 3   children  1338 non-null   int64  \n",
      " 4   smoker    1338 non-null   object \n",
      " 5   region    1338 non-null   object \n",
      " 6   charges   1338 non-null   float64\n",
      "dtypes: float64(2), int64(2), object(3)\n",
      "memory usage: 73.3+ KB\n",
      "None\n"
     ]
    },
    {
     "data": {
      "text/html": [
       "<div>\n",
       "<style scoped>\n",
       "    .dataframe tbody tr th:only-of-type {\n",
       "        vertical-align: middle;\n",
       "    }\n",
       "\n",
       "    .dataframe tbody tr th {\n",
       "        vertical-align: top;\n",
       "    }\n",
       "\n",
       "    .dataframe thead th {\n",
       "        text-align: right;\n",
       "    }\n",
       "</style>\n",
       "<table border=\"1\" class=\"dataframe\">\n",
       "  <thead>\n",
       "    <tr style=\"text-align: right;\">\n",
       "      <th></th>\n",
       "      <th>age</th>\n",
       "      <th>sex</th>\n",
       "      <th>bmi</th>\n",
       "      <th>children</th>\n",
       "      <th>smoker</th>\n",
       "      <th>region</th>\n",
       "      <th>charges</th>\n",
       "    </tr>\n",
       "  </thead>\n",
       "  <tbody>\n",
       "    <tr>\n",
       "      <th>0</th>\n",
       "      <td>19</td>\n",
       "      <td>female</td>\n",
       "      <td>27.900</td>\n",
       "      <td>0</td>\n",
       "      <td>yes</td>\n",
       "      <td>southwest</td>\n",
       "      <td>16884.92400</td>\n",
       "    </tr>\n",
       "    <tr>\n",
       "      <th>1</th>\n",
       "      <td>18</td>\n",
       "      <td>male</td>\n",
       "      <td>33.770</td>\n",
       "      <td>1</td>\n",
       "      <td>no</td>\n",
       "      <td>southeast</td>\n",
       "      <td>1725.55230</td>\n",
       "    </tr>\n",
       "    <tr>\n",
       "      <th>2</th>\n",
       "      <td>28</td>\n",
       "      <td>male</td>\n",
       "      <td>33.000</td>\n",
       "      <td>3</td>\n",
       "      <td>no</td>\n",
       "      <td>southeast</td>\n",
       "      <td>4449.46200</td>\n",
       "    </tr>\n",
       "    <tr>\n",
       "      <th>3</th>\n",
       "      <td>33</td>\n",
       "      <td>male</td>\n",
       "      <td>22.705</td>\n",
       "      <td>0</td>\n",
       "      <td>no</td>\n",
       "      <td>northwest</td>\n",
       "      <td>21984.47061</td>\n",
       "    </tr>\n",
       "    <tr>\n",
       "      <th>4</th>\n",
       "      <td>32</td>\n",
       "      <td>male</td>\n",
       "      <td>28.880</td>\n",
       "      <td>0</td>\n",
       "      <td>no</td>\n",
       "      <td>northwest</td>\n",
       "      <td>3866.85520</td>\n",
       "    </tr>\n",
       "  </tbody>\n",
       "</table>\n",
       "</div>"
      ],
      "text/plain": [
       "   age     sex     bmi  children smoker     region      charges\n",
       "0   19  female  27.900         0    yes  southwest  16884.92400\n",
       "1   18    male  33.770         1     no  southeast   1725.55230\n",
       "2   28    male  33.000         3     no  southeast   4449.46200\n",
       "3   33    male  22.705         0     no  northwest  21984.47061\n",
       "4   32    male  28.880         0     no  northwest   3866.85520"
      ]
     },
     "execution_count": 1,
     "metadata": {},
     "output_type": "execute_result"
    }
   ],
   "source": [
    "import pandas as pd\n",
    "import numpy as np\n",
    "import matplotlib.pyplot as plt\n",
    "import seaborn as sns\n",
    "import scipy.stats as stats\n",
    "from statsmodels.stats.multicomp import pairwise_tukeyhsd\n",
    "\n",
    "df = pd.read_csv('https://docs.google.com/spreadsheets/d/e/2PACX-1vQBN8DPW2rdiRrY34eEM53HAzakNGSRrw4ogI-j8HyCUrbqTB_z4CeIn2IvjLF-w_6sOe5pIlypJGAA/pub?output=csv')\n",
    "print(df.info())\n",
    "df.head()\n",
    "\n",
    "##numeric data needs removing outliers"
   ]
  },
  {
   "cell_type": "code",
   "execution_count": 2,
   "id": "87307790",
   "metadata": {},
   "outputs": [],
   "source": [
    "smoker = df.loc[df['smoker'] == 'yes'].copy()\n",
    "non_smoker = df.loc[df['smoker'] == 'no'].copy()"
   ]
  },
  {
   "cell_type": "code",
   "execution_count": 3,
   "id": "e70aaddf",
   "metadata": {},
   "outputs": [],
   "source": [
    "smoker_charge=smoker['charges']\n",
    "non_smoker_charge=non_smoker['charges']"
   ]
  },
  {
   "cell_type": "markdown",
   "id": "8424f986",
   "metadata": {},
   "source": [
    "# Q1. Do smokers have higher insurance charges than non-smokers?\n"
   ]
  },
  {
   "cell_type": "markdown",
   "id": "083deda9",
   "metadata": {},
   "source": [
    "## State your Null Hypothesis and Alternative Hypothesis\n",
    "\n",
    "- Null Hypothesis: No difference on price between smokers and non smokers.\n",
    "\n",
    "- Alternative Hypothesis: There is difference on price between smokers and non smokers."
   ]
  },
  {
   "cell_type": "markdown",
   "id": "cf35ff64",
   "metadata": {},
   "source": [
    "## Select the correct test according to the data type and number of samples\n",
    "\n",
    "it is a two sample numeric data, so I will perform independent t test.\n"
   ]
  },
  {
   "cell_type": "markdown",
   "id": "7deccb0f",
   "metadata": {},
   "source": [
    "## Test the assumptions of your selected test.\n",
    "\n",
    "There are three assumptions:\n",
    " - No significant outliers\n",
    " - Normality\n",
    " - Equal Variance"
   ]
  },
  {
   "cell_type": "code",
   "execution_count": 4,
   "id": "8a064f2f",
   "metadata": {},
   "outputs": [
    {
     "name": "stdout",
     "output_type": "stream",
     "text": [
      "0\n"
     ]
    }
   ],
   "source": [
    "# Check for outliers for both groups\n",
    "##smoker_charge\n",
    "smoker_zscores= stats.zscore(smoker_charge)\n",
    "smoker_outliers = abs(smoker_zscores)>3\n",
    "print((np.sum(smoker_outliers)))\n",
    "# remove outliers from strength group\n",
    "smoker_charge = smoker_charge[(np.abs(smoker_zscores) < 3)]"
   ]
  },
  {
   "cell_type": "code",
   "execution_count": 5,
   "id": "bcff150e",
   "metadata": {},
   "outputs": [
    {
     "name": "stdout",
     "output_type": "stream",
     "text": [
      "24\n"
     ]
    }
   ],
   "source": [
    "##non_smoker_charge\n",
    "non_smoker_zscores= stats.zscore(non_smoker_charge)\n",
    "non_smoker_outliers = abs(non_smoker_zscores)>3\n",
    "print((np.sum(non_smoker_outliers)))\n",
    "# remove outliers from strength group\n",
    "non_smoker_charge = non_smoker_charge[(np.abs(non_smoker_zscores) < 3)]"
   ]
  },
  {
   "cell_type": "code",
   "execution_count": 6,
   "id": "fe135416",
   "metadata": {},
   "outputs": [
    {
     "name": "stdout",
     "output_type": "stream",
     "text": [
      "NormaltestResult(statistic=61.03941356533816, pvalue=5.564930630036463e-14)\n",
      "NormaltestResult(statistic=163.80367047789198, pvalue=2.6945416315543976e-36)\n"
     ]
    }
   ],
   "source": [
    "# test the strength group for normality\n",
    "result_smoker_charge= stats.normaltest(smoker_charge)\n",
    "result_non_smoker_charge = stats.normaltest(non_smoker_charge)\n",
    "\n",
    "print(result_smoker_charge)\n",
    "print(result_non_smoker_charge)"
   ]
  },
  {
   "cell_type": "code",
   "execution_count": 7,
   "id": "db496a7a",
   "metadata": {},
   "outputs": [
    {
     "data": {
      "text/plain": [
       "Ttest_indResult(statistic=51.2078044173717, pvalue=3.68768124e-315)"
      ]
     },
     "execution_count": 7,
     "metadata": {},
     "output_type": "execute_result"
    }
   ],
   "source": [
    "# check for equal variance\n",
    "# Test for equal variance\n",
    "result = stats.ttest_ind(smoker_charge, non_smoker_charge)\n",
    "result"
   ]
  },
  {
   "cell_type": "markdown",
   "id": "c65030e9",
   "metadata": {},
   "source": [
    "result suggest we don't have equal variances, so we just need to be sure to include \"equal_var = False\" when we perform our t-test."
   ]
  },
  {
   "cell_type": "markdown",
   "id": "4b6a8bab",
   "metadata": {},
   "source": [
    "## Execute the selected test, or the alternative test (if you do not meet the assumptions)"
   ]
  },
  {
   "cell_type": "code",
   "execution_count": 8,
   "id": "4dfc033b",
   "metadata": {},
   "outputs": [
    {
     "data": {
      "text/plain": [
       "Ttest_indResult(statistic=33.732305987092516, pvalue=2.575322662587431e-104)"
      ]
     },
     "execution_count": 8,
     "metadata": {},
     "output_type": "execute_result"
    }
   ],
   "source": [
    "# Independent t-test with equal_var set to False\n",
    "result = stats.ttest_ind(smoker_charge, non_smoker_charge, equal_var = False)\n",
    "result"
   ]
  },
  {
   "cell_type": "markdown",
   "id": "d86521c6",
   "metadata": {},
   "source": [
    "## Interpret your p-value and reject or fail to reject your null hypothesis \n"
   ]
  },
  {
   "cell_type": "markdown",
   "id": "f7b67e0f",
   "metadata": {},
   "source": [
    "Our p-value < alpha (0.05), so we reject the null hypothesis and accept that there is a significant difference on price between smokers and non smokers."
   ]
  },
  {
   "cell_type": "markdown",
   "id": "71f3af80",
   "metadata": {},
   "source": [
    "## Show a supporting visualization that helps display the result"
   ]
  },
  {
   "cell_type": "code",
   "execution_count": 9,
   "id": "01da9661",
   "metadata": {},
   "outputs": [
    {
     "data": {
      "image/png": "[encoded data removed]",
      "text/plain": [
       "<Figure size 1000x500 with 2 Axes>"
      ]
     },
     "metadata": {},
     "output_type": "display_data"
    }
   ],
   "source": [
    "smoke_palette={'yes':'dodgerblue', \"no\":'salmon'}\n",
    "## Visualizing Sample means\n",
    "fig, (ax,ax_bar) = plt.subplots(figsize= (10,5), ncols=2, \n",
    "                                constrained_layout=True,\n",
    "                                gridspec_kw={'width_ratios':[0.8,0.2]})\n",
    "\n",
    "\n",
    "# Histogram\n",
    "ax = sns.histplot(data=df, x='charges',fill=True,hue='smoker',kde=True,\n",
    "                  stat='density',common_norm=False,ax=ax,\n",
    "                  palette=smoke_palette)\n",
    "\n",
    "ax.axvline(np.mean(smoker_charge), ls='--',lw=3, \n",
    "           label=f\"Smoker (Mean={np.mean(smoker_charge):.2f})\",color=smoke_palette['yes'])\n",
    "\n",
    "ax.axvline(np.mean(non_smoker_charge), ls='--', lw=3, \n",
    "           label=f\"Non Smoker (Mean={np.mean(non_smoker_charge):.2f})\",color=smoke_palette['no'])\n",
    "\n",
    "ax.legend(prop={\"size\":14}, loc='upper right')#bbox_to_anchor=[1,1])\n",
    "## Barplot\n",
    "sns.barplot(data=df, x='smoker',y='charges',ax = ax_bar,palette=smoke_palette)\n",
    "fig.suptitle('Comparison of Insurance Charges by Smoking Status',fontsize='xx-large');"
   ]
  },
  {
   "cell_type": "markdown",
   "id": "008c4fe3",
   "metadata": {},
   "source": [
    "# Q2. Are men more likely to smoke than women?"
   ]
  },
  {
   "cell_type": "markdown",
   "id": "1eff39cf",
   "metadata": {},
   "source": [
    "## State your Null Hypothesis and Alternative Hypothesis\n",
    "\n",
    "- Null Hypothesis: theres no difference on smoking habits between men and women\n",
    "\n",
    "- Alternative Hypothesis: theres difference on smoking habits between men and women"
   ]
  },
  {
   "cell_type": "markdown",
   "id": "5b67457b",
   "metadata": {},
   "source": [
    "## Select the correct test according to the data type and number of samples\n",
    "\n",
    "it is a two sample categorical data, so I will perform chi square test.\n"
   ]
  },
  {
   "cell_type": "markdown",
   "id": "94cf48de",
   "metadata": {},
   "source": [
    "## Test the assumptions of your selected test.\n",
    "\n",
    " - There are two categorical variables (men and women) as both of them are nominal\n",
    " - The outcomes are independent.\n"
   ]
  },
  {
   "cell_type": "markdown",
   "id": "d2fa50d5",
   "metadata": {},
   "source": [
    "## Execute the selected test, or the alternative test (if you do not meet the assumptions)"
   ]
  },
  {
   "cell_type": "code",
   "execution_count": 10,
   "id": "e0710b8a",
   "metadata": {},
   "outputs": [
    {
     "data": {
      "text/html": [
       "<div>\n",
       "<style scoped>\n",
       "    .dataframe tbody tr th:only-of-type {\n",
       "        vertical-align: middle;\n",
       "    }\n",
       "\n",
       "    .dataframe tbody tr th {\n",
       "        vertical-align: top;\n",
       "    }\n",
       "\n",
       "    .dataframe thead th {\n",
       "        text-align: right;\n",
       "    }\n",
       "</style>\n",
       "<table border=\"1\" class=\"dataframe\">\n",
       "  <thead>\n",
       "    <tr style=\"text-align: right;\">\n",
       "      <th>smoker</th>\n",
       "      <th>no</th>\n",
       "      <th>yes</th>\n",
       "    </tr>\n",
       "    <tr>\n",
       "      <th>sex</th>\n",
       "      <th></th>\n",
       "      <th></th>\n",
       "    </tr>\n",
       "  </thead>\n",
       "  <tbody>\n",
       "    <tr>\n",
       "      <th>female</th>\n",
       "      <td>547</td>\n",
       "      <td>115</td>\n",
       "    </tr>\n",
       "    <tr>\n",
       "      <th>male</th>\n",
       "      <td>517</td>\n",
       "      <td>159</td>\n",
       "    </tr>\n",
       "  </tbody>\n",
       "</table>\n",
       "</div>"
      ],
      "text/plain": [
       "smoker   no  yes\n",
       "sex             \n",
       "female  547  115\n",
       "male    517  159"
      ]
     },
     "execution_count": 10,
     "metadata": {},
     "output_type": "execute_result"
    }
   ],
   "source": [
    "# calculate the contingency table with pd.cross-tab\n",
    "table = pd.crosstab(df['sex'], df['smoker'])\n",
    "table"
   ]
  },
  {
   "cell_type": "code",
   "execution_count": 11,
   "id": "6075804a",
   "metadata": {},
   "outputs": [
    {
     "name": "stdout",
     "output_type": "stream",
     "text": [
      "0.006548143503580696\n"
     ]
    },
    {
     "data": {
      "text/plain": [
       "True"
      ]
     },
     "execution_count": 11,
     "metadata": {},
     "output_type": "execute_result"
    }
   ],
   "source": [
    "# Run the Test and Save the Output\n",
    "result = stats.chi2_contingency(table)\n",
    "chi2, p, deg_free, expected_vals = result #this labels the results\n",
    "\n",
    "# What was our p-value?\n",
    "print(p)\n",
    "p<.05"
   ]
  },
  {
   "cell_type": "markdown",
   "id": "2b504d58",
   "metadata": {},
   "source": [
    "## Interpret your p-value and reject or fail to reject your null hypothesis \n"
   ]
  },
  {
   "cell_type": "markdown",
   "id": "1e3125de",
   "metadata": {},
   "source": [
    "p value is less than 0.05, so we will reject the null hypothesis and come to the conclusion that theres difference on smoking habits between men and women."
   ]
  },
  {
   "cell_type": "markdown",
   "id": "f6eb73de",
   "metadata": {},
   "source": [
    "## Show a supporting visualization that helps display the result"
   ]
  },
  {
   "cell_type": "code",
   "execution_count": 12,
   "id": "941e8eee",
   "metadata": {
    "scrolled": true
   },
   "outputs": [
    {
     "data": {
      "text/plain": [
       "Text(0.5, 1.0, 'Number of Smokers by sex')"
      ]
     },
     "execution_count": 12,
     "metadata": {},
     "output_type": "execute_result"
    },
    {
     "data": {
      "image/png": "[encoded data removed]",
      "text/plain": [
       "<Figure size 640x480 with 1 Axes>"
      ]
     },
     "metadata": {},
     "output_type": "display_data"
    }
   ],
   "source": [
    "ax=sns.countplot(data=df, x='sex', hue = 'smoker')\n",
    "ax.set_title('Number of Smokers by sex')"
   ]
  },
  {
   "cell_type": "markdown",
   "id": "3854d496",
   "metadata": {},
   "source": [
    "# Q3. Do different regions have different charges, on average?"
   ]
  },
  {
   "cell_type": "markdown",
   "id": "a5c07129",
   "metadata": {},
   "source": [
    "## State your Null Hypothesis and Alternative Hypothesis\n"
   ]
  },
  {
   "cell_type": "markdown",
   "id": "c05d3798",
   "metadata": {},
   "source": [
    "- Null Hypothesis: different regions do not have the different charges in average.\n",
    "\n",
    "- Alternative Hypothesis: different regions have different charges in average."
   ]
  },
  {
   "cell_type": "markdown",
   "id": "bd087e9a",
   "metadata": {},
   "source": [
    "## Select the correct test according to the data type and number of samples\n",
    "\n",
    "From code below, we can tell there are 4 regions in this data, so it is a multiple group numeric data and I will perform ANOVA test.\n"
   ]
  },
  {
   "cell_type": "markdown",
   "id": "06e5b9bf",
   "metadata": {},
   "source": [
    "## Test the assumptions of your selected test.\n",
    "ANOVA Assumptions(One Way ANOVA)\n",
    "\n",
    "- Normality\n",
    "- Equal variance\n",
    "- No significant outliers"
   ]
  },
  {
   "cell_type": "code",
   "execution_count": 13,
   "id": "b26465a5",
   "metadata": {},
   "outputs": [
    {
     "data": {
      "text/plain": [
       "dict_keys(['southwest', 'southeast', 'northwest', 'northeast'])"
      ]
     },
     "execution_count": 13,
     "metadata": {},
     "output_type": "execute_result"
    }
   ],
   "source": [
    "## Create groups dictionary. \n",
    "groups = {}\n",
    "## Loop through all unique categories\n",
    "for region in df['region'].unique():\n",
    "    ## Get series for groups\n",
    "    data = df.loc[df['region']== region,'charges'].copy()\n",
    "    \n",
    "    # save into the dictionary\n",
    "    groups[region] = data\n",
    "groups.keys()"
   ]
  },
  {
   "cell_type": "code",
   "execution_count": 14,
   "id": "efe80595",
   "metadata": {},
   "outputs": [
    {
     "data": {
      "text/html": [
       "<div>\n",
       "<style scoped>\n",
       "    .dataframe tbody tr th:only-of-type {\n",
       "        vertical-align: middle;\n",
       "    }\n",
       "\n",
       "    .dataframe tbody tr th {\n",
       "        vertical-align: top;\n",
       "    }\n",
       "\n",
       "    .dataframe thead th {\n",
       "        text-align: right;\n",
       "    }\n",
       "</style>\n",
       "<table border=\"1\" class=\"dataframe\">\n",
       "  <thead>\n",
       "    <tr style=\"text-align: right;\">\n",
       "      <th></th>\n",
       "      <th>n</th>\n",
       "      <th>p</th>\n",
       "      <th>test stat</th>\n",
       "      <th>sig</th>\n",
       "    </tr>\n",
       "  </thead>\n",
       "  <tbody>\n",
       "    <tr>\n",
       "      <th>southwest</th>\n",
       "      <td>325.0</td>\n",
       "      <td>6.125298e-23</td>\n",
       "      <td>102.294059</td>\n",
       "      <td>True</td>\n",
       "    </tr>\n",
       "    <tr>\n",
       "      <th>southeast</th>\n",
       "      <td>364.0</td>\n",
       "      <td>4.953297e-15</td>\n",
       "      <td>65.877446</td>\n",
       "      <td>True</td>\n",
       "    </tr>\n",
       "    <tr>\n",
       "      <th>northwest</th>\n",
       "      <td>325.0</td>\n",
       "      <td>5.184209e-24</td>\n",
       "      <td>107.232850</td>\n",
       "      <td>True</td>\n",
       "    </tr>\n",
       "    <tr>\n",
       "      <th>northeast</th>\n",
       "      <td>324.0</td>\n",
       "      <td>1.455431e-19</td>\n",
       "      <td>86.747629</td>\n",
       "      <td>True</td>\n",
       "    </tr>\n",
       "  </tbody>\n",
       "</table>\n",
       "</div>"
      ],
      "text/plain": [
       "               n             p   test stat   sig\n",
       "southwest  325.0  6.125298e-23  102.294059  True\n",
       "southeast  364.0  4.953297e-15   65.877446  True\n",
       "northwest  325.0  5.184209e-24  107.232850  True\n",
       "northeast  324.0  1.455431e-19   86.747629  True"
      ]
     },
     "execution_count": 14,
     "metadata": {},
     "output_type": "execute_result"
    }
   ],
   "source": [
    "## Running normal test on each group and confirming there are >20 in each group\n",
    "norm_results = {}\n",
    "for region, data in groups.items():\n",
    "    stat, p = stats.normaltest(data)\n",
    "    ## save the p val, test statistic, and the size of the group\n",
    "    norm_results[region] = {'n': len(data),\n",
    "                             'p':p,\n",
    "                             'test stat':stat,}\n",
    "## convert to a dataframe\n",
    "norm_results_df = pd.DataFrame(norm_results).T\n",
    "### checking sig with pandas \n",
    "norm_results_df['sig'] = norm_results_df['p'] < .05 \n",
    "norm_results_df"
   ]
  },
  {
   "cell_type": "markdown",
   "id": "bf46b8b1",
   "metadata": {},
   "source": [
    "We confirm that each group does not meet the normality since p values are less than .05. However, since there are a lot more than 20 datas at each group, we determine to still move on to next step "
   ]
  },
  {
   "cell_type": "code",
   "execution_count": 15,
   "id": "f009394c",
   "metadata": {},
   "outputs": [
    {
     "data": {
      "text/plain": [
       "LeveneResult(statistic=5.559966758410606, pvalue=0.0008610590250786703)"
      ]
     },
     "execution_count": 15,
     "metadata": {},
     "output_type": "execute_result"
    }
   ],
   "source": [
    "# check equal variance\n",
    "stats.levene(*groups.values())"
   ]
  },
  {
   "cell_type": "markdown",
   "id": "3d9393af",
   "metadata": {},
   "source": [
    "The result does not meet the assumption of equal variance."
   ]
  },
  {
   "cell_type": "markdown",
   "id": "1e69b28a",
   "metadata": {},
   "source": [
    "## Execute the selected test, or the alternative test (if you do not meet the assumptions)"
   ]
  },
  {
   "cell_type": "code",
   "execution_count": 16,
   "id": "7ed89aed",
   "metadata": {},
   "outputs": [
    {
     "data": {
      "text/plain": [
       "F_onewayResult(statistic=2.96962669358912, pvalue=0.0308933560705201)"
      ]
     },
     "execution_count": 16,
     "metadata": {},
     "output_type": "execute_result"
    }
   ],
   "source": [
    "#try one way anova\n",
    "result = stats.f_oneway( *groups.values())\n",
    "result"
   ]
  },
  {
   "cell_type": "code",
   "execution_count": 17,
   "id": "4b277c42",
   "metadata": {},
   "outputs": [
    {
     "data": {
      "text/html": [
       "<table class=\"simpletable\">\n",
       "<caption>Multiple Comparison of Means - Tukey HSD, FWER=0.05</caption>\n",
       "<tr>\n",
       "   <th>group1</th>    <th>group2</th>    <th>meandiff</th>   <th>p-adj</th>    <th>lower</th>     <th>upper</th>   <th>reject</th>\n",
       "</tr>\n",
       "<tr>\n",
       "  <td>northeast</td> <td>northwest</td>  <td>-988.8091</td> <td>0.7245</td> <td>-3428.9343</td> <td>1451.3161</td>  <td>False</td>\n",
       "</tr>\n",
       "<tr>\n",
       "  <td>northeast</td> <td>southeast</td>  <td>1329.0269</td> <td>0.4745</td> <td>-1044.9417</td> <td>3702.9955</td>  <td>False</td>\n",
       "</tr>\n",
       "<tr>\n",
       "  <td>northeast</td> <td>southwest</td> <td>-1059.4471</td> <td>0.6792</td> <td>-3499.5723</td> <td>1380.6781</td>  <td>False</td>\n",
       "</tr>\n",
       "<tr>\n",
       "  <td>northwest</td> <td>southeast</td>  <td>2317.8361</td> <td>0.0583</td>  <td>-54.1994</td>  <td>4689.8716</td>  <td>False</td>\n",
       "</tr>\n",
       "<tr>\n",
       "  <td>northwest</td> <td>southwest</td>   <td>-70.638</td>  <td>0.9999</td> <td>-2508.8826</td> <td>2367.6066</td>  <td>False</td>\n",
       "</tr>\n",
       "<tr>\n",
       "  <td>southeast</td> <td>southwest</td> <td>-2388.4741</td> <td>0.0477</td> <td>-4760.5096</td> <td>-16.4386</td>   <td>True</td> \n",
       "</tr>\n",
       "</table>"
      ],
      "text/plain": [
       "<class 'statsmodels.iolib.table.SimpleTable'>"
      ]
     },
     "execution_count": 17,
     "metadata": {},
     "output_type": "execute_result"
    }
   ],
   "source": [
    "# make dataframe of regions and charges\n",
    "tukeys_df = pd.DataFrame(columns = ['region', 'charges'])\n",
    "\n",
    "# convert dictionary groups into df (outliers were deleted\n",
    "# from dictionary)\n",
    "for region, series in groups.items():\n",
    "    values = pd.Series(series.tolist())\n",
    "    tukeys_df = pd.concat([tukeys_df, pd.DataFrame(\n",
    "        {'region': [region] * len(values), \n",
    "         'charges': values})], ignore_index = False)\n",
    "    \n",
    "## save the values as kg_lost and the labels to the Diet\n",
    "values = df['charges']\n",
    "labels = df['region']\n",
    "\n",
    "## perform tukey's multiple comparison test and display the summary\n",
    "tukeys_results = pairwise_tukeyhsd(values,labels)\n",
    "tukeys_results.summary()"
   ]
  },
  {
   "cell_type": "markdown",
   "id": "67f3b5d4",
   "metadata": {},
   "source": [
    "## Interpret your p-value and reject or fail to reject your null hypothesis \n"
   ]
  },
  {
   "cell_type": "markdown",
   "id": "b11b0f32",
   "metadata": {},
   "source": [
    "- from one way anova, we will reject the null hypothesis since p value is less than .05.\n",
    "\n",
    "- there is a reject between southeast and southwest\n",
    "\n",
    "- This means that we will consider these two groups to have UNEQUAL (different) variances.\n",
    "\n",
    "- We will run the nonparametric Kruskal-Wallis test instead, which does not require that the data have equal variance."
   ]
  },
  {
   "cell_type": "markdown",
   "id": "6cd18b3c",
   "metadata": {},
   "source": [
    "## Execute Test (Kruskal-Wallis)\n"
   ]
  },
  {
   "cell_type": "code",
   "execution_count": 18,
   "id": "c0124e2d",
   "metadata": {},
   "outputs": [
    {
     "data": {
      "text/plain": [
       "KruskalResult(statistic=4.734181215658743, pvalue=0.19232908072121002)"
      ]
     },
     "execution_count": 18,
     "metadata": {},
     "output_type": "execute_result"
    }
   ],
   "source": [
    "result = stats.kruskal(*groups.values())\n",
    "result"
   ]
  },
  {
   "cell_type": "markdown",
   "id": "421f274f",
   "metadata": {},
   "source": [
    "## Interpret your p-value and reject or fail to reject your null hypothesis \n"
   ]
  },
  {
   "cell_type": "markdown",
   "id": "f89c5d76",
   "metadata": {},
   "source": [
    "The p-value from the Kruskal-Wallis test is more than 0.05, meaning that we cannot reject the null hypothesis.\n",
    "\n",
    "Therefore, we conclude that the different regions have statistically similar insurance charges."
   ]
  },
  {
   "cell_type": "markdown",
   "id": "058294f5",
   "metadata": {},
   "source": [
    "## Show a supporting visualization that helps display the result"
   ]
  },
  {
   "cell_type": "code",
   "execution_count": 19,
   "id": "8636a3c5",
   "metadata": {},
   "outputs": [
    {
     "data": {
      "image/png": "[encoded data removed]",
      "text/plain": [
       "<Figure size 640x480 with 1 Axes>"
      ]
     },
     "metadata": {},
     "output_type": "display_data"
    }
   ],
   "source": [
    "# barplot to compare charges between regions\n",
    "ax = sns.barplot(data = df, x = 'region', y = 'charges')\n",
    "ax.set_title('Charges between Region');"
   ]
  }
 ],
 "metadata": {
  "kernelspec": {
   "display_name": "Python (dojo-env)",
   "language": "python",
   "name": "dojo-env"
  },
  "language_info": {
   "codemirror_mode": {
    "name": "ipython",
    "version": 3
   },
   "file_extension": ".py",
   "mimetype": "text/x-python",
   "name": "python",
   "nbconvert_exporter": "python",
   "pygments_lexer": "ipython3",
   "version": "3.9.15"
  },
  "toc": {
   "base_numbering": 1,
   "nav_menu": {},
   "number_sections": false,
   "sideBar": true,
   "skip_h1_title": false,
   "title_cell": "Table of Contents",
   "title_sidebar": "Contents",
   "toc_cell": false,
   "toc_position": {},
   "toc_section_display": true,
   "toc_window_display": false
  }
 },
 "nbformat": 4,
 "nbformat_minor": 5
}
