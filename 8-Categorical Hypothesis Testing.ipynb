{
 "cells": [
  {
   "cell_type": "markdown",
   "id": "06afcb95",
   "metadata": {},
   "source": [
    "In this lesson we will cover 2 types of categorical hypothesis tests:\n",
    "\n",
    "- Binomial test:\n",
    "Testing the proportion of binary outcomes (Wins/Losses, True/False) vs. the expected probability/proportion.\n",
    "Example: Testing if a coin is a fair coin by flipping it 10 times.\n",
    "\n",
    "- Chi-squared () test:\n",
    "Testing Group Membership Across Categories.\n",
    "Example: Testing if there is a difference in the amount of Smokers/Non-Smokers between Gender (Male/Female)."
   ]
  },
  {
   "cell_type": "markdown",
   "id": "e9b638d1",
   "metadata": {},
   "source": [
    "# Binomial Test\n"
   ]
  },
  {
   "cell_type": "markdown",
   "id": "3ef6b064",
   "metadata": {},
   "source": [
    "## Example: Is this a fair coin?\n",
    "\n",
    "Coin A\n",
    "You want to test if Coin A is a fair/balanced coin.\n",
    "\n",
    "You flipped the coin 20 times.\n",
    "\n",
    "The outcomes were:\n",
    "- 14 Heads\n",
    "- 6 Tails\n",
    "- Is coin A a fair coin? (Did it have a .5 probability of heads?)\n",
    "\n",
    "**Hypothesis:**\n",
    "\n",
    "- Null Hypothesis: the probability of heads = .5\n",
    "- Alternative Hypothesis: the probability of heads is different than .5"
   ]
  },
  {
   "cell_type": "code",
   "execution_count": null,
   "id": "ae11fb16",
   "metadata": {},
   "outputs": [],
   "source": [
    "import scipy.stats as stats\n",
    "# Save outcomes of 14 H (success), 6 T (failure)\n",
    "outcomes = [14,6]\n",
    "p_value = stats.binom_test(outcomes,p=0.5) # p is the expected probability of success (heads)\n",
    "p_value"
   ]
  },
  {
   "cell_type": "markdown",
   "id": "f2e1b9a6",
   "metadata": {},
   "source": [
    "# Chi-Squared\n"
   ]
  }
 ],
 "metadata": {
  "kernelspec": {
   "display_name": "Python (dojo-env)",
   "language": "python",
   "name": "dojo-env"
  },
  "language_info": {
   "codemirror_mode": {
    "name": "ipython",
    "version": 3
   },
   "file_extension": ".py",
   "mimetype": "text/x-python",
   "name": "python",
   "nbconvert_exporter": "python",
   "pygments_lexer": "ipython3",
   "version": "3.9.15"
  },
  "toc": {
   "base_numbering": 1,
   "nav_menu": {},
   "number_sections": false,
   "sideBar": true,
   "skip_h1_title": false,
   "title_cell": "Table of Contents",
   "title_sidebar": "Contents",
   "toc_cell": false,
   "toc_position": {},
   "toc_section_display": true,
   "toc_window_display": false
  }
 },
 "nbformat": 4,
 "nbformat_minor": 5
}
